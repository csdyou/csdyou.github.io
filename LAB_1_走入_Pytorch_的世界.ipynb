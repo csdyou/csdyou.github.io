{
 "cells": [
  {
   "cell_type": "markdown",
   "metadata": {},
   "source": [
    "---\n",
    "title: \"走入 Pytorch 的世界\"\n",
    "format:\n",
    "  revealjs:\n",
    "    theme: default\n",
    "    chalkboard: true\n",
    "fontsize: 18pt\n",
    "scrollable: true\n",
    "---"
   ]
  },
  {
   "cell_type": "markdown",
   "metadata": {
    "id": "Kkq1lVwzTvfK"
   },
   "source": [
    "## 學習地圖\n",
    "\n",
    "我們將介紹 PyTorch，這篇筆記並非面面俱到。如果您有任何疑問， 文件和 Google 都是您的好幫手。\n",
    "\n",
    "* PyTorch 基礎：張量、運算、NumPy 對照\n",
    "\n",
    "* 自動微分 (Autograd)：梯度計算的三種方法\n",
    "\n",
    "* 線性回歸：從數學公式到程式實作\n",
    "\n",
    "* PyTorch 訓練骨架：`Forward` → `Loss` → `Backward` → `Update`\n",
    "\n",
    "* 進一步延伸：用 `nn.Module`、`DataLoader`、`nn.Linear` 改寫\n",
    "\n",
    "---\n",
    "\n",
    "## 匯入套件 "
   ]
  },
  {
   "cell_type": "code",
   "execution_count": 1,
   "metadata": {
    "id": "ni_0mU2xTu82"
   },
   "outputs": [],
   "source": [
    "#| echo: true  # 顯示程式碼\n",
    "#| output: true # 顯示輸出\n",
    "\n",
    "import numpy as np\n",
    "\n",
    "import torch\n",
    "import torch.nn as nn\n",
    "import torch.nn.functional as F\n",
    "\n",
    "# 匯入 3D 繪圖工具\n",
    "from mpl_toolkits.mplot3d import Axes3D\n",
    "import matplotlib.pyplot as plt\n",
    "\n",
    "# 設定隨機種子，確保結果可重現 (PyTorch 與 NumPy 各自獨立)\n",
    "torch.manual_seed(446)\n",
    "np.random.seed(446)\n",
    "\n",
    "# 自動判斷裝置是否有支援 GPU，如果有就使用 CUDA，否則使用 CPU\n",
    "device = torch.device(\"cuda:0\" if torch.cuda.is_available() else \"cpu\")"
   ]
  },
  {
   "cell_type": "code",
   "execution_count": 2,
   "metadata": {
    "colab": {
     "base_uri": "https://localhost:8080/"
    },
    "id": "cje6btyhTyUr",
    "outputId": "61a7163c-79a8-4994-b214-40af4182dfc9"
   },
   "outputs": [
    {
     "name": "stdout",
     "output_type": "stream",
     "text": [
      "Pytorch 版本:  2.7.1\n",
      "CUDA 版本:  None\n",
      "cuDNN 版本:  None\n",
      "是否支援 CUDA:  False\n"
     ]
    }
   ],
   "source": [
    "print(\"Pytorch 版本: \", torch.__version__)\n",
    "print(\"CUDA 版本: \", torch.version.cuda)\n",
    "print(\"cuDNN 版本: \", torch.backends.cudnn.version())\n",
    "print(\"是否支援 CUDA: \", torch.cuda.is_available())"
   ]
  },
  {
   "cell_type": "markdown",
   "metadata": {
    "id": "bwaRS0--Njc6"
   },
   "source": [
    "## 張量（Tensor）與 NumPy 的關係\n",
    "\n",
    "在科學計算中，**PyTorch** 可以視為與 **NumPy** 類似的套件，它同樣提供高效的矩陣與數值運算功能。不同的是，PyTorch 的基本資料結構是 **張量（Tensor）**，而 NumPy 的基本資料結構是 **多維陣列（ndarray）**。  \n",
    "\n",
    "在概念上，PyTorch 的張量就像是延伸版的 NumPy 陣列，並且支援 GPU 加速與自動微分。  \n",
    "\n",
    "---\n",
    "\n",
    "## 張量的階數（Rank）\n",
    "\n",
    "張量可以被視為一種「多階（rank）數組」，對應數學中不同的資料形式：  \n",
    "\n",
    "- **純量（Scalar，0 階張量）**：單一數值，例如 `1`、`2.5`、`13/6`  \n",
    "- **向量（Vector，1 階張量）**：一維數列，例如 `[1, 0]`、`[1, 1, 2.5, 3.4]`  \n",
    "- **矩陣（Matrix，2 階張量）**：二維數列，例如 `[[1, 5], [3, 5]]`  \n",
    "- **高階張量（Tensor，rank > 2）**：更高維度的資料結構，例如三維的影像資料或四維的影片資料  \n",
    "\n",
    "<p align=\"center\">\n",
    "  <img src=\"https://drek4537l1klr.cloudfront.net/cai/HighResolutionFigures/figure_B-1.png\" width=\"400\" height=\"300\" />\n",
    "</p>\n",
    "\n",
    "> 圖片來源：[Deep Learning with JavaScript, Manning Publications](https://livebook.manning.com/book/deep-learning-with-javascript)\n",
    "\n",
    "---\n"
   ]
  },
  {
   "cell_type": "code",
   "execution_count": 3,
   "metadata": {
    "colab": {
     "base_uri": "https://localhost:8080/"
    },
    "id": "n6s_sBmQjQPz",
    "outputId": "70f8c068-753b-4695-936a-a5248fbe55b0"
   },
   "outputs": [
    {
     "name": "stdout",
     "output_type": "stream",
     "text": [
      "=== Scalar (純量) ===\n",
      "Python scalar: 1.3\n",
      "Torch scalar: tensor(1.3000)\n",
      "\n",
      "=== Vector (向量) ===\n",
      "NumPy vector: [0.1 0.2 0.3]\n",
      "Torch vector: tensor([0.1000, 0.2000, 0.3000])\n",
      "\n",
      "=== NumPy ↔ PyTorch 轉換 ===\n",
      "From NumPy to Torch: tensor([0.1000, 0.2000, 0.3000], dtype=torch.float64)\n",
      "From Torch to NumPy: [0.1 0.2 0.3]\n",
      "\n",
      "=== 常見函數 ===\n",
      "Norm (NumPy): 0.37416573867739417\n",
      "Norm (Torch): tensor(0.3742)\n",
      "\n",
      "=== 不同維度的張量 ===\n",
      "0D Scalar (隨機數):\n",
      " tensor([0.2010])\n",
      "1D Vector (零向量):\n",
      " tensor([0., 0.])\n",
      "2D Column Vector (行向量):\n",
      " tensor([[2.],\n",
      "        [4.]])\n",
      "2D Matrix (矩陣):\n",
      " tensor([[1., 2.],\n",
      "        [3., 4.]])\n",
      "3D Tensor:\n",
      " tensor([[[1, 2],\n",
      "         [3, 4]],\n",
      "\n",
      "        [[5, 6],\n",
      "         [7, 8]]])\n"
     ]
    }
   ],
   "source": [
    "#| echo: true  # 顯示程式碼\n",
    "#| output: true # 顯示輸出\n",
    "\n",
    "#------------------------------\n",
    "# 1. 純量 (Scalar)\n",
    "#------------------------------\n",
    "print(\"=== Scalar (純量) ===\")\n",
    "a_py = 1.3   # 使用 Python 定義純量\n",
    "print(\"Python scalar:\", a_py)\n",
    "\n",
    "a_torch = torch.tensor(1.3)  # 使用 PyTorch 定義純量\n",
    "print(\"Torch scalar:\", a_torch)\n",
    "print()\n",
    "\n",
    "\n",
    "#------------------------------\n",
    "# 2. 向量 (Vector) 與 NumPy / PyTorch 的比較\n",
    "#------------------------------\n",
    "print(\"=== Vector (向量) ===\")\n",
    "x_numpy = np.array([0.1, 0.2, 0.3])          # NumPy 定義向量\n",
    "x_torch = torch.tensor([0.1, 0.2, 0.3])      # PyTorch 定義向量\n",
    "print(\"NumPy vector:\", x_numpy)\n",
    "print(\"Torch vector:\", x_torch)\n",
    "print()\n",
    "\n",
    "\n",
    "#------------------------------\n",
    "# 3. NumPy 與 PyTorch 的轉換\n",
    "#------------------------------\n",
    "print(\"=== NumPy ↔ PyTorch 轉換 ===\")\n",
    "print(\"From NumPy to Torch:\", torch.from_numpy(x_numpy))\n",
    "print(\"From Torch to NumPy:\", x_torch.numpy())\n",
    "print()\n",
    "\n",
    "\n",
    "#------------------------------\n",
    "# 4. 常見函數 (Functions)\n",
    "#------------------------------\n",
    "print(\"=== 常見函數 ===\")\n",
    "print(\"Norm (NumPy):\", np.linalg.norm(x_numpy))\n",
    "print(\"Norm (Torch):\", torch.norm(x_torch))\n",
    "print()\n",
    "\n",
    "\n",
    "#------------------------------\n",
    "# 5. 建立不同維度的張量\n",
    "#------------------------------\n",
    "print(\"=== 不同維度的張量 ===\")\n",
    "\n",
    "# (0 階) 純量\n",
    "a = torch.rand(1)\n",
    "print(\"0D Scalar (隨機數):\\n\", a)\n",
    "\n",
    "# (1 階) 向量\n",
    "b = torch.zeros((2,))\n",
    "print(\"1D Vector (零向量):\\n\", b)\n",
    "\n",
    "# (2 階) 矩陣\n",
    "c = torch.tensor([[2.0], [4.0]])\n",
    "print(\"2D Column Vector (行向量):\\n\", c)\n",
    "\n",
    "A = torch.tensor([[1., 2.], [3., 4.]])\n",
    "print(\"2D Matrix (矩陣):\\n\", A)\n",
    "\n",
    "# (3 階) 三維張量\n",
    "B = torch.tensor([[[1,2],[3,4]], [[5,6],[7,8]]])\n",
    "print(\"3D Tensor:\\n\", B)\n"
   ]
  },
  {
   "cell_type": "markdown",
   "metadata": {
    "id": "ostl-mY4jrxS"
   },
   "source": [
    "## Python List vs NumPy ndarray vs PyTorch Tensor\n",
    "\n",
    "| 類型 | 數學概念 | Python | NumPy | PyTorch |\n",
    "|------|----------|--------|-------|---------|\n",
    "| **純量 (Scalar, 0D)** | 單一數值 | `a = 1.3` | `a_np = np.array(1.3)` | `a_torch = torch.tensor(1.3)` |\n",
    "| **向量 (Vector, 1D)** | 一維陣列 | `v = [1, 2, 3]` | `v_np = np.array([1, 2, 3])` | `v_torch = torch.tensor([1, 2, 3])` |\n",
    "| **矩陣 (Matrix, 2D)** | 二維陣列 | `M = [[1, 2], [3, 4]]` | `M_np = np.array([[1, 2], [3, 4]])` | `M_torch = torch.tensor([[1, 2], [3, 4]])` |\n",
    "| **高階張量 (Tensor, 3D 以上)** | 多維陣列 | `[[[1,2],[3,4]], [[5,6],[7,8]]]` | `T_np = np.array([[[1,2],[3,4]], [[5,6],[7,8]]])` | `T_torch = torch.tensor([[[1,2],[3,4]], [[5,6],[7,8]]])` |\n",
    "\n",
    "---\n",
    "\n",
    "| 資料結構 | 本質 | 是否有 Shape | 是否有 Dtype | 適合數學運算 | 額外功能 |\n",
    "|----------|------|--------------|--------------|--------------|----------|\n",
    "| **Python list** | 任意物件的集合 (巢狀可模擬多維) | ❌ 沒有 `.shape` | ❌ 沒有 `.dtype` | ❌ 不適合 | 無 |\n",
    "| **NumPy ndarray** | 規則的多維陣列 | ✅ `.shape` | ✅ `.dtype` | ✅ 適合 | 提供大量數值運算函數 |\n",
    "| **PyTorch Tensor** | 規則的多維陣列 (深度學習優化) | ✅ `.shape` | ✅ `.dtype` | ✅ 適合 | GPU 加速、自動微分 |\n",
    "\n",
    "---"
   ]
  },
  {
   "cell_type": "markdown",
   "metadata": {
    "id": "mUn8OtIEWuYy"
   },
   "source": [
    "## 張量的重要屬性\n",
    "\n",
    "在 **PyTorch** 中，張量（Tensor）有三個最重要的屬性：\n",
    "\n",
    "1. **形狀 (Shape)**  \n",
    "   - 張量的維度與大小  \n",
    "   - 對應屬性：`.shape`\n",
    "\n",
    "2. **型別 (Dtype)**  \n",
    "   - 張量內部數值的資料型態，例如 `float32`、`int64`  \n",
    "   - 對應屬性：`.dtype`\n",
    "\n",
    "3. **值 (Value)**  \n",
    "   - 張量實際存放的數值  \n",
    "   - 可以直接印出，或使用 `.numpy()` 方法轉換為 NumPy 陣列後查看  \n"
   ]
  },
  {
   "cell_type": "code",
   "execution_count": 4,
   "metadata": {
    "colab": {
     "base_uri": "https://localhost:8080/"
    },
    "id": "GFJz-pBCWvce",
    "outputId": "3f77fb7c-411f-4a0f-d0e7-4cd3f0381418"
   },
   "outputs": [
    {
     "name": "stdout",
     "output_type": "stream",
     "text": [
      "torch.Size([2, 2])\n",
      "torch.float32\n",
      "[[1. 2.]\n",
      " [3. 4.]]\n"
     ]
    }
   ],
   "source": [
    "#| echo: true  # 顯示程式碼\n",
    "#| output: true # 顯示輸出\n",
    "\n",
    "\n",
    "# 查看矩陣A的形狀、類型和值\n",
    "print(A.shape)      # 輸出(2, 2)，即矩陣的長和寬均為2\n",
    "print(A.dtype)      # 輸出<dtype: 'float64'>\n",
    "\n",
    "# 張量的 numpy() 方法是將張量的值轉換為一個 NumPy 數組。\n",
    "print(A.numpy())    # 輸出[[1. 2.]\n",
    "                    #      [3. 4.]]"
   ]
  },
  {
   "cell_type": "markdown",
   "metadata": {
    "id": "jzDi5CNkPB__"
   },
   "source": [
    "## 張量的重塑 (Reshape)\n",
    "\n",
    "在 **PyTorch** 中，我們可以使用 `Tensor.view()` 方法來 **重塑張量 (reshape)**，其功能類似於 NumPy 的 `reshape()`。\n",
    "\n",
    "### 使用方式\n",
    "```python\n",
    "Y = X.view(new_shape)\n",
    "```\n",
    "\n",
    "---\n"
   ]
  },
  {
   "cell_type": "code",
   "execution_count": 5,
   "metadata": {
    "colab": {
     "base_uri": "https://localhost:8080/"
    },
    "id": "cDXce8o6ldiV",
    "outputId": "b724bcdc-73bd-4631-cc5d-73a0694f5c06"
   },
   "outputs": [
    {
     "name": "stdout",
     "output_type": "stream",
     "text": [
      "=== Example 1 ===\n",
      "原始張量 X:\n",
      "tensor([[1, 2, 3],\n",
      "        [4, 5, 6]])\n",
      "Shape: torch.Size([2, 3])\n",
      "\n",
      "重塑後 Y (3x2):\n",
      "tensor([[1, 2],\n",
      "        [3, 4],\n",
      "        [5, 6]])\n",
      "Shape: torch.Size([3, 2])\n",
      "\n",
      "自動推斷 Z (-1, 2):\n",
      "tensor([[1, 2],\n",
      "        [3, 4],\n",
      "        [5, 6]])\n",
      "Shape: torch.Size([3, 2])\n"
     ]
    }
   ],
   "source": [
    "#| echo: true  # 顯示程式碼\n",
    "#| output: true # 顯示輸出\n",
    "\n",
    "#------------------------------\n",
    "# Example 1\n",
    "#------------------------------\n",
    "print(\"=== Example 1 ===\")\n",
    "\n",
    "# 建立一個 2x3 的張量\n",
    "X = torch.tensor([[1, 2, 3],\n",
    "                  [4, 5, 6]])\n",
    "\n",
    "print(\"原始張量 X:\")\n",
    "print(X)\n",
    "print(\"Shape:\", X.shape)\n",
    "\n",
    "# 重塑為 3x2\n",
    "Y = X.view(3, 2)\n",
    "print(\"\\n重塑後 Y (3x2):\")\n",
    "print(Y)\n",
    "print(\"Shape:\", Y.shape)\n",
    "\n",
    "# 使用 -1 自動推斷\n",
    "Z = X.view(-1, 2)  # 自動計算出 (3, 2)\n",
    "print(\"\\n自動推斷 Z (-1, 2):\")\n",
    "print(Z)\n",
    "print(\"Shape:\", Z.shape)"
   ]
  },
  {
   "cell_type": "code",
   "execution_count": 6,
   "metadata": {
    "colab": {
     "base_uri": "https://localhost:8080/"
    },
    "id": "ueeHUhVGPI93",
    "outputId": "6bc652d1-5df1-4854-a765-4ffc65e954ba"
   },
   "outputs": [
    {
     "name": "stdout",
     "output_type": "stream",
     "text": [
      "=== Example 2 ===\n",
      "原始張量 X 的形狀:\n",
      "torch.Size([10000, 3, 28, 28])\n",
      "\n",
      "展平成 (N, C, 784):\n",
      "torch.Size([10000, 3, 784])\n",
      "\n",
      "自動推斷批次大小 (-1, C, 784):\n",
      "torch.Size([10000, 3, 784])\n"
     ]
    }
   ],
   "source": [
    "#| echo: true  # 顯示程式碼\n",
    "#| output: true # 顯示輸出\n",
    "\n",
    "#------------------------------\n",
    "# Example 2\n",
    "#------------------------------\n",
    "print(\"=== Example 2 ===\")\n",
    "\n",
    "# 假設我們有 10000 張 3x28x28 的影像 (NCHW 格式)\n",
    "N, C, W, H = 10000, 3, 28, 28\n",
    "X = torch.randn((N, C, W, H))  # [批次大小, 通道數, 寬, 高]\n",
    "\n",
    "print(\"原始張量 X 的形狀:\")\n",
    "print(X.shape)   # (10000, 3, 28, 28)\n",
    "\n",
    "# 將影像展平成 (784 = 28*28)\n",
    "X_flat = X.view(N, C, 784)\n",
    "print(\"\\n展平成 (N, C, 784):\")\n",
    "print(X_flat.shape)  # (10000, 3, 784)\n",
    "\n",
    "# 使用 -1 自動推斷批次大小\n",
    "X_auto = X.view(-1, C, 784)\n",
    "print(\"\\n自動推斷批次大小 (-1, C, 784):\")\n",
    "print(X_auto.shape)  # (10000, 3, 784)\n"
   ]
  },
  {
   "cell_type": "markdown",
   "metadata": {
    "id": "tou_jiJNXKsj"
   },
   "source": [
    "## PyTorch 是一台計算機\n",
    "\n",
    "在 **PyTorch** 中，我們可以透過各種運算 (Operations) 來處理張量。  \n",
    "給定兩個矩陣 $A$ 和 $B$：\n",
    "\n",
    "$$\n",
    "A = \\begin{bmatrix} 1 & 2 \\\\ 3 & 4 \\end{bmatrix}, \\qquad\n",
    "B = \\begin{bmatrix} 5 & 6 \\\\ 7 & 8 \\end{bmatrix}\n",
    "$$\n",
    "\n",
    "我們來試試 **矩陣加法**與**矩陣乘法**。"
   ]
  },
  {
   "cell_type": "code",
   "execution_count": 7,
   "metadata": {
    "colab": {
     "base_uri": "https://localhost:8080/"
    },
    "id": "-eEmWPdBW0mW",
    "outputId": "8f641245-a660-4217-978b-39ea02642314"
   },
   "outputs": [
    {
     "name": "stdout",
     "output_type": "stream",
     "text": [
      "C = A + B:\n",
      " tensor([[ 6.,  8.],\n",
      "        [10., 12.]])\n",
      "\n",
      "D = A * B (Element-wise):\n",
      " tensor([[ 5., 12.],\n",
      "        [21., 32.]])\n",
      "\n",
      "D = A @ B (Matrix Multiplication):\n",
      " tensor([[19., 22.],\n",
      "        [43., 50.]])\n"
     ]
    }
   ],
   "source": [
    "#| echo: true  # 顯示程式碼\n",
    "#| output: true # 顯示輸出\n",
    "\n",
    "# 定義兩個 2x2 矩陣\n",
    "A = torch.tensor([[1.0, 2.0],\n",
    "                  [3.0, 4.0]])\n",
    "\n",
    "B = torch.tensor([[5.0, 6.0],\n",
    "                  [7.0, 8.0]])\n",
    "\n",
    "# 1. 矩陣加法\n",
    "C = A + B   # 或 torch.add(A, B)\n",
    "print(\"C = A + B:\\n\", C)\n",
    "\n",
    "# 2. 元素相乘 (Hadamard product)\n",
    "D_elementwise = A * B\n",
    "print(\"\\nD = A * B (Element-wise):\\n\", D_elementwise)\n",
    "\n",
    "# 上面的做法其實是計算矩陣 element-wise 的乘法 (又叫 Hadamard product)\n",
    "# https://en.wikipedia.org/wiki/Hadamard_product_(matrices)\n",
    "\n",
    "\n",
    "# 3. 矩陣乘法 (Matrix multiplication)\n",
    "D_matmul = A @ B    # 或 torch.matmul(A, B)\n",
    "print(\"\\nD = A @ B (Matrix Multiplication):\\n\", D_matmul)"
   ]
  },
  {
   "cell_type": "markdown",
   "metadata": {
    "id": "k5W2cdtQXnYt"
   },
   "source": [
    "## 自動微分 (Automatic Differentiation)\n",
    "\n",
    "在機器/深度學習中，我們經常需要計算函數的導數。  \n",
    "PyTorch 提供了強大的 **自動微分 (autograd)** 功能，可以自動追蹤計算圖並計算梯度。"
   ]
  },
  {
   "cell_type": "markdown",
   "metadata": {
    "id": "TQZWySrUnFno"
   },
   "source": [
    "### 範例 1：單變數函數的導數\n",
    "\n",
    "考慮函數：\n",
    "\n",
    "$$\n",
    "y = f(x) = x^2 + x + 4\n",
    "$$\n",
    "\n",
    "在 $x = 3$ 時，導數為：\n",
    "\n",
    "$$\n",
    "f'(x) = 2x + 1, \\quad f'(3) = 7\n",
    "$$"
   ]
  },
  {
   "cell_type": "code",
   "execution_count": 8,
   "metadata": {
    "colab": {
     "base_uri": "https://localhost:8080/"
    },
    "id": "LtXkngguXUsW",
    "outputId": "0d19c33a-8019-4d8c-d8a2-e34c0b09a72e"
   },
   "outputs": [
    {
     "name": "stdout",
     "output_type": "stream",
     "text": [
      "y = 16.0\n",
      "dy/dx = 7.0\n"
     ]
    }
   ],
   "source": [
    "#| echo: true  # 顯示程式碼\n",
    "#| output: true # 顯示輸出\n",
    "\n",
    "# 定義變數 (需要微分); 對要微分的變數需要求 requires_grad=True，Pytorch 會自動追蹤由 x 到目標函數之間的所有運算\n",
    "x = torch.tensor(3.0, requires_grad=True)\n",
    "\n",
    "# 定義函數 y = x^2 + x + 4\n",
    "y = x**2 + x + 4\n",
    "\n",
    "# 計算 dy/dx\n",
    "dydx = torch.autograd.grad(y, x)[0]\n",
    "\n",
    "print(\"y =\", y.item())      # f(3) = 16\n",
    "print(\"dy/dx =\", dydx.item())  # f'(3) = 7"
   ]
  },
  {
   "cell_type": "markdown",
   "metadata": {
    "id": "-5qZZIggwiUv"
   },
   "source": [
    "---\n",
    "\n",
    "### 範例 2：多變數函數的偏導數\n",
    "\n",
    "考慮函數：\n",
    "\n",
    "$$\n",
    "L(w, b) = \\| Xw + b - y \\|^2\n",
    "$$\n",
    "\n",
    "其中  \n",
    "\n",
    "$$\n",
    "X = \\begin{bmatrix} 1.0 & 2.0 \\\\ 3.0 & 4.0 \\end{bmatrix}, \\quad\n",
    "y = \\begin{bmatrix} 1.0 \\\\ 2.0 \\end{bmatrix}, \\quad\n",
    "w = \\begin{bmatrix} 1.0 \\\\ 2.0 \\end{bmatrix}, \\quad\n",
    "b = 1.0\n",
    "$$\n",
    "\n",
    "我們要求：\n",
    "\n",
    "$$\n",
    "\\frac{\\partial L}{\\partial w}, \\quad \\frac{\\partial L}{\\partial b}\n",
    "$$\n"
   ]
  },
  {
   "cell_type": "code",
   "execution_count": 9,
   "metadata": {
    "colab": {
     "base_uri": "https://localhost:8080/"
    },
    "id": "x9KCG_eYa4Qv",
    "outputId": "3104dd5b-1eb3-4de1-ed8b-b3b036d355a6"
   },
   "outputs": [
    {
     "name": "stdout",
     "output_type": "stream",
     "text": [
      "L =  tensor(125., grad_fn=<SumBackward0>)\n",
      "dw =  tensor([[ 70.],\n",
      "        [100.]])\n",
      "db =  tensor([30.])\n"
     ]
    }
   ],
   "source": [
    "#| echo: true  # 顯示程式碼\n",
    "#| output: true # 顯示輸出\n",
    "\n",
    "# 定義常數\n",
    "X = torch.tensor([[1.0, 2.0],\n",
    "                  [3.0, 4.0]])\n",
    "y = torch.tensor([[1.0], [2.0]])\n",
    "\n",
    "# 定義變數 (需要被微分)\n",
    "w = torch.tensor([[1.0], [2.0]], requires_grad=True)\n",
    "b = torch.tensor([1.0], requires_grad=True)\n",
    "\n",
    "error = X @ w + b - y\n",
    "loss = (error ** 2).sum()\n",
    "dw, db = torch.autograd.grad(loss, [w, b])\n",
    "print('L = ', loss)\n",
    "print('dw = ', dw)\n",
    "print('db = ', db)"
   ]
  },
  {
   "cell_type": "markdown",
   "metadata": {
    "id": "BEmafhBQwg7s"
   },
   "source": [
    "從輸出可見，Pytorch 幫助我們計算出了\n",
    "\n",
    "\\begin{align*}\n",
    "    &L((1.0, 2.0)^{\\top}, 1) = 125 \\\\\n",
    "    &\\dfrac{\\partial L}{\\partial w}\\Big|_{w=(1.0, 2.0)^{\\top},\\ b = 1.0}\n",
    "    = \\begin{bmatrix} 70 \\\\ 100 \\end{bmatrix} \\\\\n",
    "    &\\dfrac{\\partial L}{\\partial b}\\Big|_{w=(1.0, 2.0)^{\\top},\\ b = 1.0} = 30\\\\\n",
    "\\end{align*}"
   ]
  },
  {
   "cell_type": "markdown",
   "metadata": {
    "id": "PZgnRF2usDFQ"
   },
   "source": [
    "## 線性回歸與梯度下降法\n",
    "\n",
    "接下來將理解如何使用 **梯度下降法 (Gradient Descent)** 來求解線性回歸問題，並使用 NumPy 和 Pytorch 實作。\n",
    "\n",
    "- 線性回歸是最簡單的「深度學習模型」。  \n",
    "- 梯度下降法是從這個範例推廣到更複雜模型（如神經網路）的基礎。"
   ]
  },
  {
   "cell_type": "markdown",
   "metadata": {
    "id": "nex31s_3wdZW"
   },
   "source": [
    "## 線性回歸模型\n",
    "\n",
    "給定一組資料點 $(x_i, y_i)$，我們希望找到一條直線：\n",
    "\n",
    "$$y = ax + b$$\n",
    "\n",
    "使得預測值與真實值之間的誤差最小。\n",
    "\n",
    "### 損失函數 (Loss Function)\n",
    "\n",
    "我們使用 **均方誤差 (Mean Squared Error, MSE)** 作為損失函數：\n",
    "\n",
    "$$L(a, b) = \\frac{1}{2N}\\sum_{i=1}^{N}(\\hat{y}_{i} - y_i)^2 = \\frac{1}{2N}\\sum_{i=1}^{N}(ax_i + b - y_i)^2$$\n",
    "\n",
    "---\n",
    "\n",
    "### 梯度下降法原理\n",
    "\n",
    "梯度下降法是一種**迭代演算法**，透過不斷調整參數來最小化損失函數。\n",
    "\n",
    "#### 更新規則\n",
    "\n",
    "1. **計算梯度**（損失函數對參數的偏微分）：\n",
    "\n",
    "$$\\frac{\\partial L}{\\partial a} = \\frac{1}{N}\\sum_{i=1}^{N}(ax_i + b - y_i) \\cdot x_i$$\n",
    "\n",
    "$$\\frac{\\partial L}{\\partial b} = \\frac{1}{N}\\sum_{i=1}^{N}(ax_i + b - y_i)$$\n",
    "\n",
    "2. **更新參數**（沿著梯度的反方向移動）：\n",
    "\n",
    "$$a_{new} = a_{old} - \\alpha \\cdot \\frac{\\partial L}{\\partial a}$$\n",
    "\n",
    "$$b_{new} = b_{old} - \\alpha \\cdot \\frac{\\partial L}{\\partial b}$$\n",
    "\n",
    "其中 $\\alpha$ 是**學習率 (Learning Rate)**，控制每次更新的步伐大小。\n",
    "\n",
    "---\n",
    "\n",
    "#### 向量化計算\n",
    "\n",
    "- `(y_pred - y).dot(x)` 等同於 $\\sum_{i=1}^{n}(\\hat{y}_{i} - y_i) \\cdot x_i$\n",
    "\n",
    "### 線性回歸有解析解（正規方程）：\n",
    "\n",
    "$$\\mathbf{w} = (\\mathbf{X}^T\\mathbf{X})^{-1}\\mathbf{X}^T\\mathbf{y}$$\n",
    "\n",
    "- **優點**：一步求解，不需調參\n",
    "- **缺點**：當特徵數量很大時，矩陣運算成本高\n",
    "\n",
    "梯度下降法在大規模資料集上更有效率！\n",
    "\n",
    "---"
   ]
  },
  {
   "cell_type": "code",
   "execution_count": 14,
   "metadata": {
    "colab": {
     "base_uri": "https://localhost:8080/",
     "height": 1000
    },
    "id": "Yy6UzO6Us0s4",
    "outputId": "024c7238-80bd-4449-87bc-de3ea01ac95d"
   },
   "outputs": [
    {
     "name": "stderr",
     "output_type": "stream",
     "text": [
      "No artists with labels found to put in legend.  Note that artists whose label start with an underscore are ignored when legend() is called with no argument.\n"
     ]
    },
    {
     "name": "stdout",
     "output_type": "stream",
     "text": [
      "\n",
      "==================================================\n",
      "方法           a 參數       b 參數      \n",
      "------------------------------------------------------------\n",
      "梯度下降         3.0782     1.7189    \n",
      "正規方程         3.0065     2.1881    \n",
      "真實值          3.0000     2.0000    \n",
      "============================================================\n"
     ]
    },
    {
     "name": "stderr",
     "output_type": "stream",
     "text": [
      "/var/folders/lw/wv3qwnh155v1xpmh4j6hk6f80000gn/T/ipykernel_15707/1974126695.py:96: UserWarning: Glyph 26799 (\\N{CJK UNIFIED IDEOGRAPH-68AF}) missing from current font.\n",
      "  plt.tight_layout()\n",
      "/var/folders/lw/wv3qwnh155v1xpmh4j6hk6f80000gn/T/ipykernel_15707/1974126695.py:96: UserWarning: Glyph 24230 (\\N{CJK UNIFIED IDEOGRAPH-5EA6}) missing from current font.\n",
      "  plt.tight_layout()\n",
      "/var/folders/lw/wv3qwnh155v1xpmh4j6hk6f80000gn/T/ipykernel_15707/1974126695.py:96: UserWarning: Glyph 19979 (\\N{CJK UNIFIED IDEOGRAPH-4E0B}) missing from current font.\n",
      "  plt.tight_layout()\n",
      "/var/folders/lw/wv3qwnh155v1xpmh4j6hk6f80000gn/T/ipykernel_15707/1974126695.py:96: UserWarning: Glyph 38477 (\\N{CJK UNIFIED IDEOGRAPH-964D}) missing from current font.\n",
      "  plt.tight_layout()\n",
      "/var/folders/lw/wv3qwnh155v1xpmh4j6hk6f80000gn/T/ipykernel_15707/1974126695.py:96: UserWarning: Glyph 27861 (\\N{CJK UNIFIED IDEOGRAPH-6CD5}) missing from current font.\n",
      "  plt.tight_layout()\n",
      "/var/folders/lw/wv3qwnh155v1xpmh4j6hk6f80000gn/T/ipykernel_15707/1974126695.py:96: UserWarning: Glyph 32080 (\\N{CJK UNIFIED IDEOGRAPH-7D50}) missing from current font.\n",
      "  plt.tight_layout()\n",
      "/var/folders/lw/wv3qwnh155v1xpmh4j6hk6f80000gn/T/ipykernel_15707/1974126695.py:96: UserWarning: Glyph 26524 (\\N{CJK UNIFIED IDEOGRAPH-679C}) missing from current font.\n",
      "  plt.tight_layout()\n",
      "/var/folders/lw/wv3qwnh155v1xpmh4j6hk6f80000gn/T/ipykernel_15707/1974126695.py:96: UserWarning: Glyph 35347 (\\N{CJK UNIFIED IDEOGRAPH-8A13}) missing from current font.\n",
      "  plt.tight_layout()\n",
      "/var/folders/lw/wv3qwnh155v1xpmh4j6hk6f80000gn/T/ipykernel_15707/1974126695.py:96: UserWarning: Glyph 32244 (\\N{CJK UNIFIED IDEOGRAPH-7DF4}) missing from current font.\n",
      "  plt.tight_layout()\n",
      "/var/folders/lw/wv3qwnh155v1xpmh4j6hk6f80000gn/T/ipykernel_15707/1974126695.py:96: UserWarning: Glyph 36039 (\\N{CJK UNIFIED IDEOGRAPH-8CC7}) missing from current font.\n",
      "  plt.tight_layout()\n",
      "/var/folders/lw/wv3qwnh155v1xpmh4j6hk6f80000gn/T/ipykernel_15707/1974126695.py:96: UserWarning: Glyph 26009 (\\N{CJK UNIFIED IDEOGRAPH-6599}) missing from current font.\n",
      "  plt.tight_layout()\n",
      "/var/folders/lw/wv3qwnh155v1xpmh4j6hk6f80000gn/T/ipykernel_15707/1974126695.py:96: UserWarning: Glyph 27491 (\\N{CJK UNIFIED IDEOGRAPH-6B63}) missing from current font.\n",
      "  plt.tight_layout()\n",
      "/var/folders/lw/wv3qwnh155v1xpmh4j6hk6f80000gn/T/ipykernel_15707/1974126695.py:96: UserWarning: Glyph 35215 (\\N{CJK UNIFIED IDEOGRAPH-898F}) missing from current font.\n",
      "  plt.tight_layout()\n",
      "/var/folders/lw/wv3qwnh155v1xpmh4j6hk6f80000gn/T/ipykernel_15707/1974126695.py:96: UserWarning: Glyph 26041 (\\N{CJK UNIFIED IDEOGRAPH-65B9}) missing from current font.\n",
      "  plt.tight_layout()\n",
      "/var/folders/lw/wv3qwnh155v1xpmh4j6hk6f80000gn/T/ipykernel_15707/1974126695.py:96: UserWarning: Glyph 31243 (\\N{CJK UNIFIED IDEOGRAPH-7A0B}) missing from current font.\n",
      "  plt.tight_layout()\n",
      "/var/folders/lw/wv3qwnh155v1xpmh4j6hk6f80000gn/T/ipykernel_15707/1974126695.py:96: UserWarning: Glyph 36845 (\\N{CJK UNIFIED IDEOGRAPH-8FED}) missing from current font.\n",
      "  plt.tight_layout()\n",
      "/var/folders/lw/wv3qwnh155v1xpmh4j6hk6f80000gn/T/ipykernel_15707/1974126695.py:96: UserWarning: Glyph 20195 (\\N{CJK UNIFIED IDEOGRAPH-4EE3}) missing from current font.\n",
      "  plt.tight_layout()\n",
      "/var/folders/lw/wv3qwnh155v1xpmh4j6hk6f80000gn/T/ipykernel_15707/1974126695.py:96: UserWarning: Glyph 27425 (\\N{CJK UNIFIED IDEOGRAPH-6B21}) missing from current font.\n",
      "  plt.tight_layout()\n",
      "/var/folders/lw/wv3qwnh155v1xpmh4j6hk6f80000gn/T/ipykernel_15707/1974126695.py:96: UserWarning: Glyph 25976 (\\N{CJK UNIFIED IDEOGRAPH-6578}) missing from current font.\n",
      "  plt.tight_layout()\n",
      "/var/folders/lw/wv3qwnh155v1xpmh4j6hk6f80000gn/T/ipykernel_15707/1974126695.py:96: UserWarning: Glyph 25613 (\\N{CJK UNIFIED IDEOGRAPH-640D}) missing from current font.\n",
      "  plt.tight_layout()\n",
      "/var/folders/lw/wv3qwnh155v1xpmh4j6hk6f80000gn/T/ipykernel_15707/1974126695.py:96: UserWarning: Glyph 22833 (\\N{CJK UNIFIED IDEOGRAPH-5931}) missing from current font.\n",
      "  plt.tight_layout()\n",
      "/var/folders/lw/wv3qwnh155v1xpmh4j6hk6f80000gn/T/ipykernel_15707/1974126695.py:96: UserWarning: Glyph 36942 (\\N{CJK UNIFIED IDEOGRAPH-904E}) missing from current font.\n",
      "  plt.tight_layout()\n",
      "/var/folders/lw/wv3qwnh155v1xpmh4j6hk6f80000gn/T/ipykernel_15707/1974126695.py:96: UserWarning: Glyph 30340 (\\N{CJK UNIFIED IDEOGRAPH-7684}) missing from current font.\n",
      "  plt.tight_layout()\n",
      "/var/folders/lw/wv3qwnh155v1xpmh4j6hk6f80000gn/T/ipykernel_15707/1974126695.py:96: UserWarning: Glyph 20989 (\\N{CJK UNIFIED IDEOGRAPH-51FD}) missing from current font.\n",
      "  plt.tight_layout()\n",
      "/var/folders/lw/wv3qwnh155v1xpmh4j6hk6f80000gn/T/ipykernel_15707/1974126695.py:96: UserWarning: Glyph 35722 (\\N{CJK UNIFIED IDEOGRAPH-8B8A}) missing from current font.\n",
      "  plt.tight_layout()\n",
      "/var/folders/lw/wv3qwnh155v1xpmh4j6hk6f80000gn/T/ipykernel_15707/1974126695.py:96: UserWarning: Glyph 21270 (\\N{CJK UNIFIED IDEOGRAPH-5316}) missing from current font.\n",
      "  plt.tight_layout()\n",
      "/opt/anaconda3/lib/python3.12/site-packages/IPython/core/pylabtools.py:170: UserWarning: Glyph 26799 (\\N{CJK UNIFIED IDEOGRAPH-68AF}) missing from current font.\n",
      "  fig.canvas.print_figure(bytes_io, **kw)\n",
      "/opt/anaconda3/lib/python3.12/site-packages/IPython/core/pylabtools.py:170: UserWarning: Glyph 24230 (\\N{CJK UNIFIED IDEOGRAPH-5EA6}) missing from current font.\n",
      "  fig.canvas.print_figure(bytes_io, **kw)\n",
      "/opt/anaconda3/lib/python3.12/site-packages/IPython/core/pylabtools.py:170: UserWarning: Glyph 19979 (\\N{CJK UNIFIED IDEOGRAPH-4E0B}) missing from current font.\n",
      "  fig.canvas.print_figure(bytes_io, **kw)\n",
      "/opt/anaconda3/lib/python3.12/site-packages/IPython/core/pylabtools.py:170: UserWarning: Glyph 38477 (\\N{CJK UNIFIED IDEOGRAPH-964D}) missing from current font.\n",
      "  fig.canvas.print_figure(bytes_io, **kw)\n",
      "/opt/anaconda3/lib/python3.12/site-packages/IPython/core/pylabtools.py:170: UserWarning: Glyph 27861 (\\N{CJK UNIFIED IDEOGRAPH-6CD5}) missing from current font.\n",
      "  fig.canvas.print_figure(bytes_io, **kw)\n",
      "/opt/anaconda3/lib/python3.12/site-packages/IPython/core/pylabtools.py:170: UserWarning: Glyph 32080 (\\N{CJK UNIFIED IDEOGRAPH-7D50}) missing from current font.\n",
      "  fig.canvas.print_figure(bytes_io, **kw)\n",
      "/opt/anaconda3/lib/python3.12/site-packages/IPython/core/pylabtools.py:170: UserWarning: Glyph 26524 (\\N{CJK UNIFIED IDEOGRAPH-679C}) missing from current font.\n",
      "  fig.canvas.print_figure(bytes_io, **kw)\n",
      "/opt/anaconda3/lib/python3.12/site-packages/IPython/core/pylabtools.py:170: UserWarning: Glyph 35347 (\\N{CJK UNIFIED IDEOGRAPH-8A13}) missing from current font.\n",
      "  fig.canvas.print_figure(bytes_io, **kw)\n",
      "/opt/anaconda3/lib/python3.12/site-packages/IPython/core/pylabtools.py:170: UserWarning: Glyph 32244 (\\N{CJK UNIFIED IDEOGRAPH-7DF4}) missing from current font.\n",
      "  fig.canvas.print_figure(bytes_io, **kw)\n",
      "/opt/anaconda3/lib/python3.12/site-packages/IPython/core/pylabtools.py:170: UserWarning: Glyph 36039 (\\N{CJK UNIFIED IDEOGRAPH-8CC7}) missing from current font.\n",
      "  fig.canvas.print_figure(bytes_io, **kw)\n",
      "/opt/anaconda3/lib/python3.12/site-packages/IPython/core/pylabtools.py:170: UserWarning: Glyph 26009 (\\N{CJK UNIFIED IDEOGRAPH-6599}) missing from current font.\n",
      "  fig.canvas.print_figure(bytes_io, **kw)\n",
      "/opt/anaconda3/lib/python3.12/site-packages/IPython/core/pylabtools.py:170: UserWarning: Glyph 27491 (\\N{CJK UNIFIED IDEOGRAPH-6B63}) missing from current font.\n",
      "  fig.canvas.print_figure(bytes_io, **kw)\n",
      "/opt/anaconda3/lib/python3.12/site-packages/IPython/core/pylabtools.py:170: UserWarning: Glyph 35215 (\\N{CJK UNIFIED IDEOGRAPH-898F}) missing from current font.\n",
      "  fig.canvas.print_figure(bytes_io, **kw)\n",
      "/opt/anaconda3/lib/python3.12/site-packages/IPython/core/pylabtools.py:170: UserWarning: Glyph 26041 (\\N{CJK UNIFIED IDEOGRAPH-65B9}) missing from current font.\n",
      "  fig.canvas.print_figure(bytes_io, **kw)\n",
      "/opt/anaconda3/lib/python3.12/site-packages/IPython/core/pylabtools.py:170: UserWarning: Glyph 31243 (\\N{CJK UNIFIED IDEOGRAPH-7A0B}) missing from current font.\n",
      "  fig.canvas.print_figure(bytes_io, **kw)\n",
      "/opt/anaconda3/lib/python3.12/site-packages/IPython/core/pylabtools.py:170: UserWarning: Glyph 25613 (\\N{CJK UNIFIED IDEOGRAPH-640D}) missing from current font.\n",
      "  fig.canvas.print_figure(bytes_io, **kw)\n",
      "/opt/anaconda3/lib/python3.12/site-packages/IPython/core/pylabtools.py:170: UserWarning: Glyph 22833 (\\N{CJK UNIFIED IDEOGRAPH-5931}) missing from current font.\n",
      "  fig.canvas.print_figure(bytes_io, **kw)\n",
      "/opt/anaconda3/lib/python3.12/site-packages/IPython/core/pylabtools.py:170: UserWarning: Glyph 36942 (\\N{CJK UNIFIED IDEOGRAPH-904E}) missing from current font.\n",
      "  fig.canvas.print_figure(bytes_io, **kw)\n",
      "/opt/anaconda3/lib/python3.12/site-packages/IPython/core/pylabtools.py:170: UserWarning: Glyph 30340 (\\N{CJK UNIFIED IDEOGRAPH-7684}) missing from current font.\n",
      "  fig.canvas.print_figure(bytes_io, **kw)\n",
      "/opt/anaconda3/lib/python3.12/site-packages/IPython/core/pylabtools.py:170: UserWarning: Glyph 20989 (\\N{CJK UNIFIED IDEOGRAPH-51FD}) missing from current font.\n",
      "  fig.canvas.print_figure(bytes_io, **kw)\n",
      "/opt/anaconda3/lib/python3.12/site-packages/IPython/core/pylabtools.py:170: UserWarning: Glyph 25976 (\\N{CJK UNIFIED IDEOGRAPH-6578}) missing from current font.\n",
      "  fig.canvas.print_figure(bytes_io, **kw)\n",
      "/opt/anaconda3/lib/python3.12/site-packages/IPython/core/pylabtools.py:170: UserWarning: Glyph 35722 (\\N{CJK UNIFIED IDEOGRAPH-8B8A}) missing from current font.\n",
      "  fig.canvas.print_figure(bytes_io, **kw)\n",
      "/opt/anaconda3/lib/python3.12/site-packages/IPython/core/pylabtools.py:170: UserWarning: Glyph 21270 (\\N{CJK UNIFIED IDEOGRAPH-5316}) missing from current font.\n",
      "  fig.canvas.print_figure(bytes_io, **kw)\n",
      "/opt/anaconda3/lib/python3.12/site-packages/IPython/core/pylabtools.py:170: UserWarning: Glyph 36845 (\\N{CJK UNIFIED IDEOGRAPH-8FED}) missing from current font.\n",
      "  fig.canvas.print_figure(bytes_io, **kw)\n",
      "/opt/anaconda3/lib/python3.12/site-packages/IPython/core/pylabtools.py:170: UserWarning: Glyph 20195 (\\N{CJK UNIFIED IDEOGRAPH-4EE3}) missing from current font.\n",
      "  fig.canvas.print_figure(bytes_io, **kw)\n",
      "/opt/anaconda3/lib/python3.12/site-packages/IPython/core/pylabtools.py:170: UserWarning: Glyph 27425 (\\N{CJK UNIFIED IDEOGRAPH-6B21}) missing from current font.\n",
      "  fig.canvas.print_figure(bytes_io, **kw)\n"
     ]
    },
    {
     "data": {
      "image/png": "[encoded data removed]",
      "text/plain": [
       "<Figure size 1600x1200 with 2 Axes>"
      ]
     },
     "metadata": {},
     "output_type": "display_data"
    }
   ],
   "source": [
    "#| echo: true  # 顯示程式碼\n",
    "#| output: true # 顯示輸出\n",
    "#| warning: false    # 隱藏警告\n",
    "#| fig-width: 10        # 以英吋為單位\n",
    "#| fig-height: 6\n",
    "#| fig-dpi: 150         # 較高解析度\n",
    "#| fig-format: svg      # 向量圖，放大不失真（常用於簡報）\n",
    "#| out-width: 100%      # 圖片在投影片佔滿寬度\n",
    "\n",
    "#------------------------------\n",
    "# Step 1: 生成訓練資料\n",
    "#------------------------------\n",
    "n_samples = 100\n",
    "\n",
    "# 真實參數\n",
    "true_a = 3.0\n",
    "true_b = 2.0\n",
    "\n",
    "# 生成資料\n",
    "x = np.random.rand(n_samples) * 10\n",
    "y = true_a * x + true_b + np.random.randn(n_samples) * 2\n",
    "\n",
    "#------------------------------\n",
    "# Step 2: 初始化參數\n",
    "#------------------------------\n",
    "a = 0.0  # 斜率\n",
    "b = 0.0  # 截距\n",
    "\n",
    "#------------------------------\n",
    "# Step 3: 設定超參數\n",
    "#------------------------------\n",
    "num_iter = 10000        # 迭代次數\n",
    "learning_rate = 5e-4    # 學習率\n",
    "n_samples = len(x)      # 樣本數量\n",
    "\n",
    "loss_history = []\n",
    "#------------------------------\n",
    "# Step 4: 梯度下降訓練\n",
    "#------------------------------\n",
    "for iter in range(num_iter):\n",
    "    # 前向傳播\n",
    "    y_pred = a * x + b\n",
    "\n",
    "\n",
    "    # 計算損失函數 (MSE)\n",
    "    loss = np.sum((y_pred - y) ** 2)/(2*n_samples)\n",
    "    loss_history.append(loss)\n",
    "\n",
    "    # 計算梯度\n",
    "    da = (y_pred - y).dot(x) / n_samples\n",
    "    db = (y_pred - y).sum() / n_samples\n",
    "\n",
    "    # 更新參數\n",
    "    a = a - learning_rate * da\n",
    "    b = b - learning_rate * db\n",
    "\n",
    "#------------------------------\n",
    "# 正規方程求解\n",
    "#------------------------------\n",
    "\n",
    "# 擴充矩陣 X = [x, 1]\n",
    "X_matrix = np.column_stack([x, np.ones(len(x))])\n",
    "\n",
    "# 正規方程求解: w = (X^T X)^(-1) X^T y <=> X^+ y\n",
    "theta = np.linalg.pinv(X_matrix) @ y\n",
    "a_normal, b_normal = theta\n",
    "\n",
    "#------------------------------\n",
    "# Step 5: 輸出最終結果\n",
    "#------------------------------\n",
    "print(\"\\n\" + \"=\"*50)\n",
    "print(f\"{'方法':<12} {'a 參數':<10} {'b 參數':<10}\")\n",
    "print(\"-\" * 60)\n",
    "print(f\"{'梯度下降':<12} {a:<10.4f} {b:<10.4f}\")\n",
    "print(f\"{'正規方程':<12} {a_normal:<10.4f} {b_normal:<10.4f}\")\n",
    "print(f\"{'真實值':<12} {true_a:<10.4f} {true_b:<10.4f}\")\n",
    "print(\"=\"*60)\n",
    "\n",
    "#------------------------------\n",
    "# Step 6: 視覺化結果\n",
    "#------------------------------\n",
    "fig, axes = plt.subplots(1, 2, figsize=(8, 4))\n",
    "\n",
    "axes[0].scatter(x, y, alpha=0.5, label='訓練資料', s=30)\n",
    "axes[0].plot(x, a * x + b, 'r-', linewidth=2, label=f'梯度下降: y = {a:.2f}x + {b:.2f}')\n",
    "axes[0].plot(x, a_normal * x + b_normal, 'b-', linewidth=2, label=f'正規方程: y = {a_normal:.2f}x + {b_normal:.2f}')\n",
    "axes[0].set_xlabel('x', fontsize=11)\n",
    "axes[0].set_ylabel('y', fontsize=11)\n",
    "axes[0].set_title('梯度下降法結果', fontsize=12, fontweight='bold')\n",
    "axes[0].legend(fontsize=10)\n",
    "axes[0].grid(True, alpha=0.3)\n",
    "\n",
    "axes[1].plot(loss_history, linewidth=2, color='blue')\n",
    "axes[1].set_xlabel('迭代次數', fontsize=11)\n",
    "axes[1].set_ylabel('損失 (MSE)', fontsize=11)\n",
    "axes[1].set_title('訓練過程的損失函數變化', fontsize=12, fontweight='bold')\n",
    "axes[1].legend(fontsize=10)\n",
    "axes[1].grid(True, alpha=0.3)\n",
    "axes[1].set_yscale('log')\n",
    "\n",
    "plt.tight_layout()\n",
    "plt.show()\n"
   ]
  },
  {
   "cell_type": "markdown",
   "metadata": {
    "id": "BDix-Nxr1SBn"
   },
   "source": [
    "## 使用 Numpy 實現機器學習模型有兩個痛點\n",
    "\n",
    " - 需要手工求函數關於參數的偏導數\n",
    "\n",
    " 如果是簡單的函數或許還好，但一旦函數的形式變得複雜（尤其是深度學習模型），手工求導的過程將變得非常痛苦，甚至不可行。\n",
    "\n",
    "- 需要手工實現最佳化演算法\n",
    "\n",
    " 這裏使用了最基礎的梯度下降方法，因此參數的更新還較為容易。但如果使用更加複雜的參數更新方法（例如 Adam 或者 Adagrad），這個更新過程的編寫同樣會非常繁雜。\n",
    "\n",
    "而 Pytorch 等深度學習框架很大程度上解決了這些痛點，為機器/深度學習模型的實現帶來了很大的便利。\n",
    "\n",
    "以下程式展示如何用 **PyTorch + 自動微分 (autograd)** 來實現 **梯度下降 (Gradient Descent)**，求解線性回歸的參數 $a, b$。\n",
    "\n",
    "---"
   ]
  },
  {
   "cell_type": "code",
   "execution_count": 11,
   "metadata": {
    "colab": {
     "base_uri": "https://localhost:8080/"
    },
    "id": "bDMmNYBW-9Eg",
    "outputId": "1de76110-b1eb-4b39-c43a-f0ee065bd038"
   },
   "outputs": [
    {
     "name": "stdout",
     "output_type": "stream",
     "text": [
      "a_torch =  3.0415158\n",
      "b_torch =  1.5286039\n"
     ]
    }
   ],
   "source": [
    "#| echo: true  # 顯示程式碼\n",
    "#| output: true # 顯示輸出\n",
    "\n",
    "\n",
    "# 將 x, y 轉換成 tensor\n",
    "x_torch = torch.tensor(x)\n",
    "y_torch = torch.tensor(y)\n",
    "\n",
    "# 初使化變數\n",
    "a_torch = torch.tensor(0.0, requires_grad=True)\n",
    "b_torch = torch.tensor(0.0, requires_grad=True)\n",
    "\n",
    "num_iter = 10000\n",
    "learning_rate = 5e-4\n",
    "for iter in range(num_iter):\n",
    "\n",
    "    # forward\n",
    "    y_pred = a_torch * x_torch + b_torch\n",
    "    loss = torch.sum((y_pred - y_torch)**2)/(2*n_samples)\n",
    "\n",
    "    # calculate derivatives\n",
    "    da, db = torch.autograd.grad(loss, [a_torch, b_torch])\n",
    "\n",
    "    # 更新參數\n",
    "    with torch.no_grad(): # 更新參數時不要記錄\n",
    "        a_torch -= learning_rate*da\n",
    "        b_torch -= learning_rate*db\n",
    "\n",
    "\n",
    "print('a_torch = ', a_torch.detach().numpy())\n",
    "print('b_torch = ', b_torch.detach().numpy())"
   ]
  },
  {
   "cell_type": "markdown",
   "metadata": {
    "id": "oCq83khm0Il0"
   },
   "source": [
    "## 使用 PyTorch 的 `.backward()` 進行梯度計算與參數更新\n",
    "\n",
    "前面我們使用 `torch.autograd.grad` 來手動取得偏導數。  \n",
    "這裡我們展示另一種 **更常見的寫法**：利用 `loss.backward()` 自動計算梯度，並存在每個張量的 `.grad` 屬性中。\n"
   ]
  },
  {
   "cell_type": "code",
   "execution_count": 12,
   "metadata": {
    "colab": {
     "base_uri": "https://localhost:8080/"
    },
    "id": "KrLLgVjt5m3g",
    "outputId": "92554751-f4f1-46ff-a2f7-2d2a6f7343a4"
   },
   "outputs": [
    {
     "name": "stdout",
     "output_type": "stream",
     "text": [
      "a_torch =  3.0415158\n",
      "b_torch =  1.5286039\n"
     ]
    }
   ],
   "source": [
    "#| echo: true  # 顯示程式碼\n",
    "#| output: true # 顯示輸出\n",
    "\n",
    "# 初使化變數\n",
    "a_torch = torch.tensor(0.0, requires_grad=True)\n",
    "b_torch = torch.tensor(0.0, requires_grad=True)\n",
    "\n",
    "num_iter = 10000\n",
    "learning_rate = 5e-4\n",
    "for iter in range(num_iter):\n",
    "\n",
    "    # forward\n",
    "    y_pred = a_torch * x_torch + b_torch\n",
    "    loss = torch.sum((y_pred - y_torch)**2)/(2*n_samples)\n",
    "\n",
    "    # zero grad\n",
    "    if a_torch.grad is not None:\n",
    "        a_torch.grad.zero_()\n",
    "    if b_torch.grad is not None:\n",
    "        b_torch.grad.zero_()\n",
    "\n",
    "    # backward\n",
    "    loss.backward() # <- 後向傳播另一種使用方式，會自動對 requared_grad=True 的參數進行求導\n",
    "                    #    參數的導數存在 a.grad 和 b.grad\n",
    "\n",
    "    # 更新參數\n",
    "    with torch.no_grad():\n",
    "        a_torch -= learning_rate * a_torch.grad\n",
    "        b_torch -= learning_rate * b_torch.grad\n",
    "\n",
    "print('a_torch = ', a_torch.detach().numpy())\n",
    "print('b_torch = ', b_torch.detach().numpy())"
   ]
  },
  {
   "cell_type": "markdown",
   "metadata": {
    "id": "Kz5h_bw-9C-v"
   },
   "source": [
    "---\n",
    "\n",
    "在 Pytorch 中呼叫 `backward()`，其導數會被累加到參數的 `grad` 中。因此必須在每次訓練疊代中將梯度歸零。至於為什麼 Pytorch 不自動歸零，其官方說法是為了在更複雜的模型中有更大的彈性。"
   ]
  },
  {
   "cell_type": "markdown",
   "metadata": {
    "id": "vda_i6o7PlRD"
   },
   "source": [
    "## 使用自動微分與 PyTorch Optimizer 進行線性迴歸\n",
    "\n",
    "前面我們示範過：\n",
    "1. 用 `autograd.grad` 手動取偏導並更新參數  \n",
    "2. 用 `.backward()` + `.grad` 直接更新參數  \n",
    "\n",
    "現在進一步，我們可以用 **PyTorch 提供的 Optimizer**，讓參數更新更簡潔。  \n",
    "這也是 **訓練深度學習模型的標準流程**。"
   ]
  },
  {
   "cell_type": "code",
   "execution_count": 13,
   "metadata": {
    "colab": {
     "base_uri": "https://localhost:8080/"
    },
    "id": "i_D-djnR3Lf1",
    "outputId": "d537bff9-d849-407e-ea98-1bf35a000478"
   },
   "outputs": [
    {
     "name": "stdout",
     "output_type": "stream",
     "text": [
      "a_torch =  3.0415158\n",
      "b_torch =  1.5286039\n"
     ]
    }
   ],
   "source": [
    "#| echo: true  # 顯示程式碼\n",
    "#| output: true # 顯示輸出\n",
    "\n",
    "# 初使化變數\n",
    "a_torch = torch.tensor(0.0, requires_grad=True)\n",
    "b_torch = torch.tensor(0.0, requires_grad=True)\n",
    "\n",
    "num_iter = 10000\n",
    "optimizer = torch.optim.SGD([a_torch, b_torch], lr=5e-4) # 定義一個 stochastic gradient descent 優化器\n",
    "\n",
    "for iter in range(num_iter):\n",
    "\n",
    "    # forward\n",
    "    y_pred = a_torch * x_torch + b_torch\n",
    "    loss = torch.sum((y_pred - y_torch)**2)/(2*n_samples)\n",
    "\n",
    "    # backward\n",
    "    optimizer.zero_grad() # <- 需在 backward() 之前呼叫\n",
    "    loss.backward()\n",
    "\n",
    "    # Pytorch 自動根據梯度更新參數\n",
    "    optimizer.step()\n",
    "\n",
    "print('a_torch = ', a_torch.detach().numpy())\n",
    "print('b_torch = ', b_torch.detach().numpy())"
   ]
  },
  {
   "cell_type": "markdown",
   "metadata": {
    "id": "Gx0DThCL1uGG"
   },
   "source": [
    "## PyTorch 梯度下降三種方法比較\n",
    "\n",
    "| 方法 | 特點 | 梯度計算 | 參數更新方式 | 適用場景 |\n",
    "|------|------|----------|--------------|----------|\n",
    "| **1. `torch.autograd.grad`** | 直接計算並回傳梯度 | `da, db = torch.autograd.grad(loss, [a, b])` | 手動寫更新規則：`a -= lr*da` | 學習公式、理解數學推導 |\n",
    "| **2. `.backward()` + `.grad`** | 透過計算圖自動將梯度存入 `.grad` | `loss.backward()` → `a.grad, b.grad` | 手動寫更新規則：`a -= lr*a.grad` | 深度學習標準流程的基礎 |\n",
    "| **3. Optimizer (`torch.optim`)** | 最高層級封裝，最簡潔 | `loss.backward()` 自動更新 `.grad` | `optimizer.step()` 自動更新 | 實際模型訓練（CNN, RNN, Transformer） |\n",
    "\n",
    "---\n",
    "\n",
    "### 小結\n",
    "- `autograd.grad` → **數學練習**，了解梯度的來源  \n",
    "- `.backward()` → **深度學習核心流程**  \n",
    "- Optimizer → **實務訓練模型時必用**，支援多種優化方法（SGD, Adam, RMSProp …）  "
   ]
  },
  {
   "cell_type": "markdown",
   "metadata": {
    "id": "F2YN_zIe2cK6",
    "jp-MarkdownHeadingCollapsed": true
   },
   "source": [
    "\n",
    "\n",
    "透過線性回歸這個簡單案例，我們已經看到了 **深度學習訓練的基本流程**：\n",
    "\n",
    "1. **Forward**：由輸入資料計算模型的輸出  \n",
    "2. **Loss**：計算預測值與真實標籤的誤差  \n",
    "3. **Backward**：利用自動微分計算梯度 (Gradient)  \n",
    "4. **Update**：依照梯度與學習率更新參數 (Optimizer)  \n",
    "\n",
    "```python\n",
    "\n",
    "for iter in range(num_iter):\n",
    "    # ---- Forward ----\n",
    "    y_pred = model(x)               # 模型輸出\n",
    "    loss = loss_fn(y_pred, y)       # 計算損失\n",
    "\n",
    "    # ---- Backward ----\n",
    "    optimizer.zero_grad()           # 清除舊梯度\n",
    "    loss.backward()                 # 自動計算梯度\n",
    "\n",
    "    # ---- Update ----\n",
    "    optimizer.step()                # 更新參數\n",
    "\n",
    "```\n",
    "\n",
    "這四個步驟組成了「深度學習模型訓練的骨架」。  \n",
    "不管模型多麼複雜（線性回歸、CNN、RNN、Transformer…），其核心流程都遵循這個框架。\n",
    "\n",
    "---\n",
    "\n"
   ]
  },
  {
   "cell_type": "markdown",
   "metadata": {
    "id": "cveGBmHzSC-7"
   },
   "source": [
    "## 小結：  \n",
    "- 線性回歸是最簡單的深度學習模型  \n",
    "- 梯度下降是模型訓練的基礎方法  \n",
    "- Optimizer 將訓練流程自動化，讓我們能專注於設計更強大的網路結構\n",
    "  \n",
    "## 常見錯誤與陷阱\n",
    "\n",
    "1. 梯度累積\n",
    "\n",
    "   **症狀**：損失震盪或爆掉。\n",
    "\n",
    "   **可能原因**：每次 `backward()` 會把梯度 加到 `param.grad`; 沒清空就會累加。\n",
    "   \n",
    "   **解法**：在每個 step 前 `optimizer.zero_grad()` 或 `for p in model.parameters(): p.grad = None`。"
   ]
  },
  {
   "cell_type": "code",
   "execution_count": null,
   "metadata": {
    "id": "ZrpPGvePSHTf"
   },
   "outputs": [],
   "source": []
  }
 ],
 "metadata": {
  "accelerator": "GPU",
  "colab": {
   "gpuType": "T4",
   "provenance": [],
   "toc_visible": true
  },
  "kernelspec": {
   "display_name": "Python 3 (ipykernel)",
   "language": "python",
   "name": "python3"
  },
  "language_info": {
   "codemirror_mode": {
    "name": "ipython",
    "version": 3
   },
   "file_extension": ".py",
   "mimetype": "text/x-python",
   "name": "python",
   "nbconvert_exporter": "python",
   "pygments_lexer": "ipython3",
   "version": "3.9.23"
  },
  "panel-cell-order": [
   "b4a59eb9",
   "13a00fe3",
   "d64419ab",
   "1cbcff55",
   "dcd9a1f4",
   "c770fedf",
   "b1ad27d6",
   "d4b0bc15",
   "d66adcb7",
   "71a92cd3",
   "09661222",
   "eb6a6bdb",
   "19ae473b",
   "cfe238c3",
   "ffcd209a",
   "429f32d0",
   "ea26b120",
   "81f9905a",
   "6d385420",
   "d96711e4",
   "3d83adb1",
   "56184922",
   "68a169ef",
   "61d4786f",
   "e1dd2984",
   "f95fac0c",
   "665d0486",
   "26c87402",
   "9149c8ad",
   "5cb24803",
   "eeaa4454"
  ]
 },
 "nbformat": 4,
 "nbformat_minor": 4
}
